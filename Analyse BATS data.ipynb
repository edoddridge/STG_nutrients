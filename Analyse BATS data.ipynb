{
 "cells": [
  {
   "cell_type": "code",
   "execution_count": 1,
   "metadata": {
    "collapsed": true
   },
   "outputs": [],
   "source": [
    "import scipy.io as sio\n",
    "import numpy as np\n",
    "import pandas as pd\n",
    "import matplotlib.pyplot as plt\n",
    "import copy\n",
    "%matplotlib inline"
   ]
  },
  {
   "cell_type": "code",
   "execution_count": 2,
   "metadata": {
    "collapsed": true
   },
   "outputs": [],
   "source": [
    "import matplotlib\n",
    "\n",
    "plt.rc('text',usetex=True)\n",
    "#font = {'family':'serif','size':16}\n",
    "font = {'family':'serif','size':16, 'serif': ['computer modern roman']}\n",
    "plt.rc('font',**font)\n",
    "plt.rc('legend',**{'fontsize':14})\n",
    "matplotlib.rcParams['text.latex.preamble']=[r'\\usepackage{amsmath}']\n"
   ]
  },
  {
   "cell_type": "code",
   "execution_count": 3,
   "metadata": {},
   "outputs": [],
   "source": [
    "BATS_ctd_raw_data = sio.loadmat('/Users/doddridge/Documents/Edward/Research/datasets/observations/BATS/ctd_data.mat')"
   ]
  },
  {
   "cell_type": "markdown",
   "metadata": {},
   "source": [
    "File contains 2dbar downcast CTD data whereby all casts are in single cruise file.\n",
    "\n",
    "Data format as follows:\n",
    "\n",
    "col1: 8 digit cast_ID \t\n",
    "     $XXXX###  where,\n",
    "\n",
    "\t$= cruise type\n",
    "\t1=bats core\n",
    "\t2=bats bloom a\n",
    "\t3=bats bloom b\n",
    " \t5=bats validation\n",
    "\tXXXX= cruise number\n",
    "\t### = cast number\n",
    "\n",
    "eg.\t10155005  = bats core cruise, cruise 155, cast 5\n",
    "\n",
    "    col2:   decimal year \n",
    "    col3: \tLatitude (N)\n",
    "    col4: \tLongitude (W)\n",
    "    col5:\tPressure (dbar)\n",
    "    col6:\tDepth (m)\n",
    "    col7:\tTemperature (ITS-90, C)\n",
    "    col8:\tConductivity (S/m)\n",
    "    col9:\tSalinity (PSS-78)\n",
    "    col10:\tDissolved Oxygen (umol/kg)\n",
    "    col11:\tBeam Attenuation Coefficient (1/m)\n",
    "    col12:\tFluorescence (relative fluorescence units)\n",
    "    \n",
    "#### NB: Don't get confused with python's zero indexing!"
   ]
  },
  {
   "cell_type": "code",
   "execution_count": 4,
   "metadata": {
    "collapsed": true
   },
   "outputs": [],
   "source": [
    "BATS_CTD_data_dict = {}\n",
    "BATS_CTD_data_dict['cast_ID'] = BATS_ctd_raw_data['ctd_data'][:,0]\n",
    "BATS_CTD_data_dict['decimal_year'] = BATS_ctd_raw_data['ctd_data'][:,1]\n",
    "BATS_CTD_data_dict['latitude'] = BATS_ctd_raw_data['ctd_data'][:,2]\n",
    "BATS_CTD_data_dict['longitude'] = BATS_ctd_raw_data['ctd_data'][:,3]\n",
    "BATS_CTD_data_dict['pressure'] = BATS_ctd_raw_data['ctd_data'][:,4]\n",
    "BATS_CTD_data_dict['depth'] = BATS_ctd_raw_data['ctd_data'][:,5]\n",
    "BATS_CTD_data_dict['temperature'] = BATS_ctd_raw_data['ctd_data'][:,6]\n",
    "BATS_CTD_data_dict['conductivity'] = BATS_ctd_raw_data['ctd_data'][:,7]\n",
    "BATS_CTD_data_dict['salinity'] = BATS_ctd_raw_data['ctd_data'][:,8]\n",
    "BATS_CTD_data_dict['dissolved oxygen'] = BATS_ctd_raw_data['ctd_data'][:,9]\n",
    "BATS_CTD_data_dict['beam attenuation coefficient'] = BATS_ctd_raw_data['ctd_data'][:,10]\n",
    "BATS_CTD_data_dict['flourescence'] = BATS_ctd_raw_data['ctd_data'][:,11]\n"
   ]
  },
  {
   "cell_type": "code",
   "execution_count": 5,
   "metadata": {},
   "outputs": [
    {
     "data": {
      "text/plain": [
       "array([ 0.438,  0.438,  0.438,  0.438,  0.438,  0.438,  0.438,  0.438,\n",
       "        0.441,  0.438,  0.44 ,  0.442,  0.442,  0.439,  0.437,  0.441,\n",
       "        0.439,  0.439,  0.438,  0.439,  0.437,  0.438,  0.438,  0.438,\n",
       "        0.438,  0.438,  0.438,  0.439,  0.438,  0.438,  0.44 ,  0.445,\n",
       "        0.446,  0.446,  0.446,  0.446,  0.449,  0.442,  0.438,  0.438,\n",
       "        0.438,  0.436,  0.434,  0.433,  0.435,  0.438,  0.433,  0.429,\n",
       "        0.429,  0.425,  0.425,  0.423,  0.42 ,  0.416,  0.416,  0.414,\n",
       "        0.413,  0.416,  0.416,  0.416,  0.416,  0.412,  0.411,  0.411,\n",
       "        0.41 ,  0.41 ,  0.411,  0.409,  0.409,  0.407,  0.407,  0.407,\n",
       "        0.408,  0.407,  0.407,  0.407,  0.407,  0.407,  0.407,  0.407,\n",
       "        0.407,  0.407,  0.407,  0.407,  0.407,  0.407,  0.407,  0.407,\n",
       "        0.407,  0.407,  0.407,  0.404,  0.406,  0.407,  0.405,  0.403,\n",
       "        0.403,  0.406,  0.407,  0.406])"
      ]
     },
     "execution_count": 5,
     "metadata": {},
     "output_type": "execute_result"
    }
   ],
   "source": [
    "BATS_ctd_raw_data['ctd_data'][:100,10]"
   ]
  },
  {
   "cell_type": "code",
   "execution_count": 6,
   "metadata": {},
   "outputs": [
    {
     "data": {
      "text/plain": [
       "<matplotlib.text.Text at 0x112d00a90>"
      ]
     },
     "execution_count": 6,
     "metadata": {},
     "output_type": "execute_result"
    },
    {
     "data": {
      "image/png": "[encoded data removed]",
      "text/plain": [
       "<matplotlib.figure.Figure at 0x112cded10>"
      ]
     },
     "metadata": {},
     "output_type": "display_data"
    }
   ],
   "source": [
    "plt.plot(BATS_ctd_raw_data['ctd_data'][:1000,6], -BATS_ctd_raw_data['ctd_data'][:1000,5])\n",
    "plt.ylabel('depth (m)')\n",
    "plt.xlabel('temperature (C)')"
   ]
  },
  {
   "cell_type": "code",
   "execution_count": 7,
   "metadata": {},
   "outputs": [],
   "source": [
    "BATS_ctd_data = pd.DataFrame(BATS_CTD_data_dict)"
   ]
  },
  {
   "cell_type": "code",
   "execution_count": 8,
   "metadata": {},
   "outputs": [
    {
     "data": {
      "text/html": [
       "<div>\n",
       "<style>\n",
       "    .dataframe thead tr:only-child th {\n",
       "        text-align: right;\n",
       "    }\n",
       "\n",
       "    .dataframe thead th {\n",
       "        text-align: left;\n",
       "    }\n",
       "\n",
       "    .dataframe tbody tr th {\n",
       "        vertical-align: top;\n",
       "    }\n",
       "</style>\n",
       "<table border=\"1\" class=\"dataframe\">\n",
       "  <thead>\n",
       "    <tr style=\"text-align: right;\">\n",
       "      <th></th>\n",
       "      <th>beam attenuation coefficient</th>\n",
       "      <th>cast_ID</th>\n",
       "      <th>conductivity</th>\n",
       "      <th>decimal_year</th>\n",
       "      <th>depth</th>\n",
       "      <th>dissolved oxygen</th>\n",
       "      <th>flourescence</th>\n",
       "      <th>latitude</th>\n",
       "      <th>longitude</th>\n",
       "      <th>pressure</th>\n",
       "      <th>salinity</th>\n",
       "      <th>temperature</th>\n",
       "    </tr>\n",
       "  </thead>\n",
       "  <tbody>\n",
       "    <tr>\n",
       "      <th>0</th>\n",
       "      <td>0.438</td>\n",
       "      <td>10001001.0</td>\n",
       "      <td>5.572947</td>\n",
       "      <td>1988.802568</td>\n",
       "      <td>3.972169</td>\n",
       "      <td>205.99</td>\n",
       "      <td>NaN</td>\n",
       "      <td>31.783</td>\n",
       "      <td>64.116</td>\n",
       "      <td>4.0</td>\n",
       "      <td>36.407</td>\n",
       "      <td>25.708</td>\n",
       "    </tr>\n",
       "    <tr>\n",
       "      <th>1</th>\n",
       "      <td>0.438</td>\n",
       "      <td>10001001.0</td>\n",
       "      <td>5.573360</td>\n",
       "      <td>1988.802568</td>\n",
       "      <td>5.958224</td>\n",
       "      <td>207.11</td>\n",
       "      <td>NaN</td>\n",
       "      <td>31.783</td>\n",
       "      <td>64.116</td>\n",
       "      <td>6.0</td>\n",
       "      <td>36.407</td>\n",
       "      <td>25.711</td>\n",
       "    </tr>\n",
       "    <tr>\n",
       "      <th>2</th>\n",
       "      <td>0.438</td>\n",
       "      <td>10001001.0</td>\n",
       "      <td>5.573611</td>\n",
       "      <td>1988.802568</td>\n",
       "      <td>7.944261</td>\n",
       "      <td>207.69</td>\n",
       "      <td>NaN</td>\n",
       "      <td>31.783</td>\n",
       "      <td>64.116</td>\n",
       "      <td>8.0</td>\n",
       "      <td>36.409</td>\n",
       "      <td>25.710</td>\n",
       "    </tr>\n",
       "    <tr>\n",
       "      <th>3</th>\n",
       "      <td>0.438</td>\n",
       "      <td>10001001.0</td>\n",
       "      <td>5.574106</td>\n",
       "      <td>1988.802568</td>\n",
       "      <td>9.930278</td>\n",
       "      <td>207.74</td>\n",
       "      <td>NaN</td>\n",
       "      <td>31.783</td>\n",
       "      <td>64.116</td>\n",
       "      <td>10.0</td>\n",
       "      <td>36.408</td>\n",
       "      <td>25.715</td>\n",
       "    </tr>\n",
       "    <tr>\n",
       "      <th>4</th>\n",
       "      <td>0.438</td>\n",
       "      <td>10001001.0</td>\n",
       "      <td>5.574194</td>\n",
       "      <td>1988.802568</td>\n",
       "      <td>11.916275</td>\n",
       "      <td>208.31</td>\n",
       "      <td>NaN</td>\n",
       "      <td>31.783</td>\n",
       "      <td>64.116</td>\n",
       "      <td>12.0</td>\n",
       "      <td>36.408</td>\n",
       "      <td>25.715</td>\n",
       "    </tr>\n",
       "  </tbody>\n",
       "</table>\n",
       "</div>"
      ],
      "text/plain": [
       "   beam attenuation coefficient     cast_ID  conductivity  decimal_year  \\\n",
       "0                         0.438  10001001.0      5.572947   1988.802568   \n",
       "1                         0.438  10001001.0      5.573360   1988.802568   \n",
       "2                         0.438  10001001.0      5.573611   1988.802568   \n",
       "3                         0.438  10001001.0      5.574106   1988.802568   \n",
       "4                         0.438  10001001.0      5.574194   1988.802568   \n",
       "\n",
       "       depth  dissolved oxygen  flourescence  latitude  longitude  pressure  \\\n",
       "0   3.972169            205.99           NaN    31.783     64.116       4.0   \n",
       "1   5.958224            207.11           NaN    31.783     64.116       6.0   \n",
       "2   7.944261            207.69           NaN    31.783     64.116       8.0   \n",
       "3   9.930278            207.74           NaN    31.783     64.116      10.0   \n",
       "4  11.916275            208.31           NaN    31.783     64.116      12.0   \n",
       "\n",
       "   salinity  temperature  \n",
       "0    36.407       25.708  \n",
       "1    36.407       25.711  \n",
       "2    36.409       25.710  \n",
       "3    36.408       25.715  \n",
       "4    36.408       25.715  "
      ]
     },
     "execution_count": 8,
     "metadata": {},
     "output_type": "execute_result"
    }
   ],
   "source": [
    "BATS_ctd_data[BATS_ctd_data['cast_ID']==10001001].head()"
   ]
  },
  {
   "cell_type": "code",
   "execution_count": 9,
   "metadata": {
    "collapsed": true
   },
   "outputs": [],
   "source": [
    "def d_dz(cast_ID, variable):\n",
    "    \n",
    "    d_dz = -(BATS_ctd_data.loc[BATS_ctd_data['cast_ID'] == cast_ID][variable].diff(periods=2)/\n",
    "                   BATS_ctd_data.loc[BATS_ctd_data['cast_ID'] == cast_ID]['depth'].diff(periods=2))\n",
    "    return d_dz\n",
    "    "
   ]
  },
  {
   "cell_type": "code",
   "execution_count": 10,
   "metadata": {
    "collapsed": true
   },
   "outputs": [],
   "source": [
    "def running_mean(vector, win_length, symmetry='even'):\n",
    "    \"\"\"Calculate running mean. Edges are dealt with by \n",
    "    reflecting the vector values around the end point \n",
    "    and calculating the mean. win_length must be odd.\n",
    "    \n",
    "    Parameters\n",
    "     - vector: the vector to be smoothed\n",
    "     - win_length: the length of the smoothing window\n",
    "     - symmetry: controls the behaviour at the ends of the input vector. \n",
    "     Is the function even, symmetry='even', or odd, symmetry='odd'. Default is \"even\".\n",
    "    \"\"\"\n",
    "    \n",
    "    if symmetry == 'even':\n",
    "        sym = 1.\n",
    "    elif symmetry == 'odd':\n",
    "        sym = -1.\n",
    "    else:\n",
    "        raise ValueError('symmetry must be either \"even\" or \"odd\".')\n",
    "        return\n",
    "    \n",
    "    if np.mod(win_length,2) != 1:\n",
    "        raise ValueError(\"win_length must be odd\")\n",
    "        return\n",
    "    \n",
    "    vector_extended = np.append(vector,sym*vector[-1:-win_length:-1]) # add to the end\n",
    "    vector_extended = np.insert(vector_extended,0,sym*vector[win_length:0:-1],) # add to the beginning\n",
    "    \n",
    "    vector_smoothed = np.zeros_like(vector)\n",
    "    for i in xrange(len(vector)):\n",
    "        vector_smoothed[i] = np.nanmean(vector_extended[win_length+i-(win_length+1)/2:win_length+i+(win_length+1)/2+1])\n",
    "    \n",
    "    return vector_smoothed"
   ]
  },
  {
   "cell_type": "code",
   "execution_count": 11,
   "metadata": {
    "collapsed": true
   },
   "outputs": [],
   "source": [
    "def trapezoidal_integration(array, axis, verbose=False):\n",
    "    \"\"\"Use the trapezoidal rule to numerically integrate the supplied array. The axis array must also be supplied.\n",
    "    \n",
    "    Can handle isolated masked values in array, and will fill by linear interpolation. \n",
    "    Multiple masked values next to each other will result in an error.\"\"\"\n",
    "    \n",
    "    try:\n",
    "        masked_inds = np.where(array.mask)[0]\n",
    "        all_inds = np.arange(len(array))\n",
    "        #print masked_inds\n",
    "        #print all_inds\n",
    "        #print all_inds[min(masked_inds):]\n",
    "        \n",
    "        if masked_inds.size == 0:\n",
    "            # no elements are masked\n",
    "            pass\n",
    "        elif masked_inds.size == len(array):\n",
    "            # all elemtents are masked. return NaN\n",
    "            return np.nan\n",
    "        elif np.array_equal(all_inds[min(masked_inds):], masked_inds):\n",
    "            if verbose:\n",
    "                print 'all indicies beyond a certain point are masked - removing masked region with indicies {0}'.format(masked_inds)\n",
    "            array = array[:min(masked_inds)]\n",
    "            axis = axis[:min(masked_inds)]\n",
    "        elif np.array_equal(all_inds[:max(masked_inds)], masked_inds):\n",
    "            if verbose:\n",
    "                print 'all indicies up to a certain point are masked - removing masked region with indicies {0}'.format(masked_inds)\n",
    "            array = array[max(masked_inds)+1:]\n",
    "            axis = axis[max(masked_inds)+1:]\n",
    "        else:\n",
    "            # some elements are masked, but they do not form a contiguous block at either end of the input array\n",
    "            pass\n",
    "        \n",
    "        #recalculate masked_inds with shortened inputs\n",
    "        masked_inds = np.where(array.mask)[0]\n",
    "        array_filled = copy.deepcopy(array)            \n",
    "        # this prevents the filled array from propagating out of the function.\n",
    "        for i in masked_inds:\n",
    "            if i == 0:\n",
    "                # first element is masked - copy second\n",
    "                array_filled[i] = array[i+1]\n",
    "            elif i == len(array)-1:\n",
    "                # final element is copy penultimate\n",
    "                array_filled[i] = array[i-1]\n",
    "            else:\n",
    "                array_filled[i] = (array[i-1] + array[i+1])/2.\n",
    "    except AttributeError:\n",
    "        # this captures the error if the input is not a numpy masked array.\n",
    "        array_filled = copy.deepcopy(array)\n",
    "    \n",
    "    integral = 0.\n",
    "    \n",
    "    for i in xrange(len(array_filled)-1):\n",
    "        integral += 0.5*(axis[i+1] - axis[i])*(array_filled[i+1] + array_filled[i])\n",
    "        \n",
    "    try:\n",
    "        if integral.compressed().size == 0:\n",
    "            integral = np.nan\n",
    "    except AttributeError:\n",
    "        pass\n",
    "    \n",
    "    return integral\n",
    "\n",
    "def test_trap_integration():\n",
    "    array = np.arange(10.)\n",
    "    axis = np.arange(10.)\n",
    "\n",
    "    integral = trapezoidal_integration(array, axis)\n",
    "    \n",
    "    assert integral == 40.5\n",
    "\n",
    "def test_trap_integration_masked():\n",
    "    array = np.arange(10.)\n",
    "    array = np.ma.masked_where(array==5, array)\n",
    "    axis = np.arange(10.)\n",
    "\n",
    "    integral = trapezoidal_integration(array, axis)\n",
    "    \n",
    "    assert integral == 40.5\n",
    "\n",
    "def test_trap_integration_masked_tail():\n",
    "    array = np.arange(10.)\n",
    "    array = np.ma.masked_where(array>=5., array)\n",
    "    axis = np.arange(10.)\n",
    "    #print array\n",
    "    integral = trapezoidal_integration(array, axis)\n",
    "    #print integral\n",
    "    assert integral == 8"
   ]
  },
  {
   "cell_type": "code",
   "execution_count": 12,
   "metadata": {},
   "outputs": [],
   "source": [
    "test_trap_integration()\n",
    "test_trap_integration_masked()\n",
    "test_trap_integration_masked_tail()"
   ]
  },
  {
   "cell_type": "code",
   "execution_count": 13,
   "metadata": {},
   "outputs": [],
   "source": [
    "array = np.arange(10.)\n",
    "array = np.ma.masked_where(array==5., array)\n",
    "array = np.ma.masked_where(array==4., array)\n",
    "axis = np.arange(10.)\n",
    "\n",
    "test = trapezoidal_integration(array, axis)\n"
   ]
  },
  {
   "cell_type": "code",
   "execution_count": 16,
   "metadata": {},
   "outputs": [
    {
     "data": {
      "text/plain": [
       "<matplotlib.text.Text at 0x113565750>"
      ]
     },
     "execution_count": 16,
     "metadata": {},
     "output_type": "execute_result"
    },
    {
     "data": {
      "image/png": "[encoded data removed]",
      "text/plain": [
       "<matplotlib.figure.Figure at 0x11367a850>"
      ]
     },
     "metadata": {},
     "output_type": "display_data"
    }
   ],
   "source": [
    "i=5048\n",
    "plt.plot(BATS_ctd_data[BATS_ctd_data['cast_ID']==BATS_ctd_data.cast_ID.unique()[i]]['temperature'],\n",
    "         -BATS_ctd_data[BATS_ctd_data['cast_ID']==BATS_ctd_data.cast_ID.unique()[i]]['depth'], label='Temperaure')\n",
    "\n",
    "plt.plot(150.*running_mean(d_dz(BATS_ctd_data.cast_ID.unique()[i], 'temperature'),11), \n",
    "         -BATS_ctd_data[BATS_ctd_data['cast_ID']==BATS_ctd_data.cast_ID.unique()[i]]['depth'],\n",
    "         label='temperature gradient')\n",
    "\n",
    "index_19 = np.argmin(\n",
    "        np.abs(BATS_ctd_data[BATS_ctd_data['cast_ID']==BATS_ctd_data.cast_ID.unique()[i]]['temperature']-19))\n",
    "index_17_5 = np.argmin(\n",
    "        np.abs(BATS_ctd_data[BATS_ctd_data['cast_ID']==BATS_ctd_data.cast_ID.unique()[i]]['temperature']-17.5))\n",
    "\n",
    "plt.hlines([-BATS_ctd_data[BATS_ctd_data['cast_ID']==BATS_ctd_data.cast_ID.unique()[i]]['depth'][index_19],\n",
    "            -BATS_ctd_data[BATS_ctd_data['cast_ID']==BATS_ctd_data.cast_ID.unique()[i]]['depth'][index_17_5]],\n",
    "           0,25, color='grey')\n",
    "\n",
    "mode_thickness = (BATS_ctd_data[BATS_ctd_data['cast_ID']==BATS_ctd_data.cast_ID.unique()[i]]['depth'][index_19] -\n",
    "            BATS_ctd_data[BATS_ctd_data['cast_ID']==BATS_ctd_data.cast_ID.unique()[i]]['depth'][index_17_5])\n",
    "\n",
    "plt.legend()\n",
    "plt.vlines([0],-2000,0)\n",
    "plt.vlines([17.5, 19],-2000,0, color='grey')\n",
    "plt.ylim(-1000, 0)\n",
    "plt.title('mode water thickness = {:3.1f} m'.format(mode_thickness))"
   ]
  },
  {
   "cell_type": "code",
   "execution_count": 17,
   "metadata": {},
   "outputs": [],
   "source": [
    "BATS_data = pd.read_table('/Users/doddridge/Documents/Edward/Research/datasets/observations/BATS/bats_production.dat',\n",
    "              skiprows=38,header=None,\n",
    "              names=['ID','yymmdd','decimal year','Latitude','Longitude','Collection depth (m)','Incubation depth (m)','salt',\n",
    "                                            'lt1','lt2','lt3','dark','t0','pp','thy1','thy2','thy3','thy'],\n",
    "              delim_whitespace=True,\n",
    "             )\n",
    "BATS_data['pp'] = BATS_data['pp'].mask(BATS_data['pp'] == -9.99,)"
   ]
  },
  {
   "cell_type": "code",
   "execution_count": 19,
   "metadata": {},
   "outputs": [
    {
     "data": {
      "text/plain": [
       "<matplotlib.text.Text at 0x1132d1950>"
      ]
     },
     "execution_count": 19,
     "metadata": {},
     "output_type": "execute_result"
    },
    {
     "data": {
      "image/png": "[encoded data removed]",
      "text/plain": [
       "<matplotlib.figure.Figure at 0x113433a10>"
      ]
     },
     "metadata": {},
     "output_type": "display_data"
    }
   ],
   "source": [
    "plt.plot(BATS_data['pp'],-BATS_data['Collection depth (m)'],'*',alpha=0.5)\n",
    "plt.ylabel('Depth (m)')\n",
    "plt.xlabel('Primary productivity')"
   ]
  },
  {
   "cell_type": "code",
   "execution_count": 20,
   "metadata": {},
   "outputs": [
    {
     "data": {
      "text/plain": [
       "[<matplotlib.lines.Line2D at 0x1133fbe50>]"
      ]
     },
     "execution_count": 20,
     "metadata": {},
     "output_type": "execute_result"
    },
    {
     "data": {
      "image/png": "[encoded data removed]",
      "text/plain": [
       "<matplotlib.figure.Figure at 0x11351d410>"
      ]
     },
     "metadata": {},
     "output_type": "display_data"
    }
   ],
   "source": [
    "plt.plot(BATS_data['Longitude'], BATS_data['Latitude'], 'o')"
   ]
  },
  {
   "cell_type": "markdown",
   "metadata": {
    "collapsed": true
   },
   "source": [
    "# combine data into single dataframe\n",
    "\n",
    "Go through each primary productivity estimate, integrate vertically, and then look for ctd casts that:\n",
    " - happen within $\\pm$ $X$ days of the productivity sampling\n",
    " - are within $Y$ km of the productivity data"
   ]
  },
  {
   "cell_type": "code",
   "execution_count": 21,
   "metadata": {},
   "outputs": [
    {
     "name": "stderr",
     "output_type": "stream",
     "text": [
      "/Users/doddridge/anaconda2/lib/python2.7/site-packages/ipykernel_launcher.py:89: RuntimeWarning: Mean of empty slice\n",
      "/Users/doddridge/anaconda2/lib/python2.7/site-packages/ipykernel_launcher.py:90: RuntimeWarning: Mean of empty slice\n",
      "/Users/doddridge/anaconda2/lib/python2.7/site-packages/ipykernel_launcher.py:91: RuntimeWarning: Mean of empty slice\n"
     ]
    }
   ],
   "source": [
    "combined_data = pd.DataFrame(columns=['pp_yyyymmdd', 'pp_decimal_year', 'ctd_decimal_year', \n",
    "                                      'pp_integrated', 'mode_water_top', 'mode_water_bottom',\n",
    "                                      'mode_water_thickness', 'pp_lat', 'pp_lng', \n",
    "                                      'ctd_lat', 'ctd_lng', 'distance'])\n",
    "\n",
    "# loop through BATS primary productivity data\n",
    "pp_integrated = np.zeros(BATS_data.yymmdd.unique().shape)\n",
    "mode_water_thickness = np.zeros(BATS_data.yymmdd.unique().shape)\n",
    "\n",
    "for counter, day in enumerate(BATS_data.yymmdd.unique()):\n",
    "    one_day_subset = BATS_data.loc[BATS_data['yymmdd'] == day]\n",
    "    combined_data.set_value(counter, 'pp_yyyymmdd', day)\n",
    "    combined_data.set_value(counter, 'pp_decimal_year', np.array(one_day_subset['decimal year'])[0])\n",
    "    combined_data.set_value(counter, 'pp_lat', np.array(one_day_subset['Latitude'])[0])\n",
    "    combined_data.set_value(counter, 'pp_lng', np.array(one_day_subset['Longitude'])[0])\n",
    "    \n",
    "    # calculate vertically integrated primary productivity for this day\n",
    "    # if all pp data are NaN, then the output should be too\n",
    "    combined_data['pp_integrated'][counter] = trapezoidal_integration(np.ma.masked_where(np.isnan(one_day_subset['pp']),\n",
    "                                                                        one_day_subset['pp']), \n",
    "                                                     np.array(one_day_subset['Collection depth (m)']))\n",
    "    \n",
    "    # find ctd casts within +/- X days\n",
    "    X = 1.\n",
    "    ctd_subset = BATS_ctd_data.loc[np.abs(BATS_ctd_data['decimal_year'] - \n",
    "                                          np.array(one_day_subset['decimal year'])[0]) < .002739726*X]\n",
    "    \n",
    "    # extract mode water thickness from each one\n",
    "    \n",
    "    if ctd_subset['decimal_year'].unique().shape[0] == 0:\n",
    "        # no ctd casts found within +/- X days\n",
    "        combined_data.set_value(counter, 'mode_water_top', np.nan)\n",
    "        combined_data.set_value(counter, 'mode_water_bottom', np.nan)\n",
    "        combined_data.set_value(counter, 'mode_water_thickness', np.nan)\n",
    "        combined_data.set_value(counter, 'ctd_decimal_year', np.nan)\n",
    "        combined_data.set_value(counter, 'ctd_lat', np.nan)\n",
    "        combined_data.set_value(counter, 'ctd_lng', np.nan)\n",
    "        \n",
    "    else:\n",
    "        # at least one cast has been found\n",
    "        top = []\n",
    "        bottom = []\n",
    "        thickness = []\n",
    "        lats = []\n",
    "        lngs = []\n",
    "        decimal_years = []\n",
    "        distance = []\n",
    "        \n",
    "        \n",
    "        for date_stamp in ctd_subset['decimal_year'].unique():\n",
    "            # go through the casts and check if they are within Y km of the productivity measurements\n",
    "            delta_x = (60.*1.85*np.cos(combined_data['pp_lat'][counter]*np.pi/180.)*\n",
    "                        (combined_data['pp_lat'][counter] - np.array(\n",
    "                            ctd_subset.loc[ctd_subset['decimal_year'] == date_stamp]['latitude'])[0]))\n",
    "            delta_y = (60.*1.85*\n",
    "                       (combined_data['pp_lng'][counter] - np.array(\n",
    "                            ctd_subset.loc[ctd_subset['decimal_year'] == date_stamp]['longitude'])[0]))\n",
    "            \n",
    "            # check it is within Y km of pp measurements\n",
    "            Y = 50.\n",
    "            if np.sqrt(delta_x**2 + delta_y**2) < Y:\n",
    "                distance.append(np.sqrt(delta_x**2 + delta_y**2))\n",
    "                if all(np.isnan(ctd_subset.loc[ctd_subset['decimal_year'] == date_stamp]['temperature'])):\n",
    "                    # if all temperature measurements are NaN, then there's nothing to be done\n",
    "                    top.append(np.nan)\n",
    "                    bottom.append(np.nan)\n",
    "                    thickness.append(np.nan)\n",
    "                    lats.append(np.array(ctd_subset.loc[ctd_subset['decimal_year'] == date_stamp]['latitude'])[0])\n",
    "                    lngs.append(np.array(ctd_subset.loc[ctd_subset['decimal_year'] == date_stamp]['longitude'])[0])\n",
    "                    decimal_years.append(np.array(ctd_subset.loc[ctd_subset['decimal_year'] == date_stamp]['decimal_year'])[0])\n",
    "                else:\n",
    "                    index_19 = np.argmin(\n",
    "                            np.abs(ctd_subset.loc[ctd_subset['decimal_year'] == date_stamp]['temperature']-19))\n",
    "                    index_17_5 = np.argmin(\n",
    "                            np.abs(ctd_subset.loc[ctd_subset['decimal_year'] == date_stamp]['temperature']-17.5))\n",
    "\n",
    "                    top.append(ctd_subset.loc[ctd_subset['decimal_year']==date_stamp]['depth'][index_19])\n",
    "                    bottom.append(ctd_subset.loc[ctd_subset['decimal_year']==date_stamp]['depth'][index_17_5])\n",
    "                    thickness.append((ctd_subset.loc[ctd_subset['decimal_year']==date_stamp]['depth'][index_17_5] -\n",
    "                                ctd_subset.loc[ctd_subset['decimal_year']==date_stamp]['depth'][index_19]))\n",
    "                    lats.append(np.array(ctd_subset.loc[ctd_subset['decimal_year'] == date_stamp]['latitude'])[0])\n",
    "                    lngs.append(np.array(ctd_subset.loc[ctd_subset['decimal_year'] == date_stamp]['longitude'])[0])\n",
    "                    decimal_years.append(np.array(ctd_subset.loc[ctd_subset['decimal_year'] == date_stamp]['decimal_year'])[0])\n",
    "\n",
    "            else:\n",
    "                # the cast wasn't close enough, so ignore it.\n",
    "                pass\n",
    "    \n",
    "        combined_data.set_value(counter, 'mode_water_top', np.nanmean(top))\n",
    "        combined_data.set_value(counter, 'mode_water_bottom', np.nanmean(bottom))\n",
    "        combined_data.set_value(counter, 'mode_water_thickness', np.nanmean(thickness))\n",
    "        combined_data.set_value(counter, 'ctd_decimal_year', decimal_years)\n",
    "        combined_data.set_value(counter, 'ctd_lat', lats)\n",
    "        combined_data.set_value(counter, 'ctd_lng', lngs)\n",
    "        combined_data.set_value(counter, 'distance', distance)\n"
   ]
  },
  {
   "cell_type": "code",
   "execution_count": 22,
   "metadata": {
    "scrolled": false
   },
   "outputs": [
    {
     "data": {
      "text/html": [
       "<div>\n",
       "<style>\n",
       "    .dataframe thead tr:only-child th {\n",
       "        text-align: right;\n",
       "    }\n",
       "\n",
       "    .dataframe thead th {\n",
       "        text-align: left;\n",
       "    }\n",
       "\n",
       "    .dataframe tbody tr th {\n",
       "        vertical-align: top;\n",
       "    }\n",
       "</style>\n",
       "<table border=\"1\" class=\"dataframe\">\n",
       "  <thead>\n",
       "    <tr style=\"text-align: right;\">\n",
       "      <th></th>\n",
       "      <th>pp_yyyymmdd</th>\n",
       "      <th>pp_decimal_year</th>\n",
       "      <th>ctd_decimal_year</th>\n",
       "      <th>pp_integrated</th>\n",
       "      <th>mode_water_top</th>\n",
       "      <th>mode_water_bottom</th>\n",
       "      <th>mode_water_thickness</th>\n",
       "      <th>pp_lat</th>\n",
       "      <th>pp_lng</th>\n",
       "      <th>ctd_lat</th>\n",
       "      <th>ctd_lng</th>\n",
       "      <th>distance</th>\n",
       "    </tr>\n",
       "  </thead>\n",
       "  <tbody>\n",
       "    <tr>\n",
       "      <th>0</th>\n",
       "      <td>19881218</td>\n",
       "      <td>1988.96</td>\n",
       "      <td>[1988.964888, 1988.965535, 1988.966041, 1988.9...</td>\n",
       "      <td>281.6</td>\n",
       "      <td>154.462</td>\n",
       "      <td>287.379</td>\n",
       "      <td>132.917</td>\n",
       "      <td>31.669</td>\n",
       "      <td>64.049</td>\n",
       "      <td>[31.668, 31.687, 31.683, 31.675, 31.776]</td>\n",
       "      <td>[64.043, 64.02, 64.017, 63.972, 64.056]</td>\n",
       "      <td>[0.672666989635, 3.64055240024, 3.79024804909,...</td>\n",
       "    </tr>\n",
       "    <tr>\n",
       "      <th>1</th>\n",
       "      <td>19890127</td>\n",
       "      <td>1989.07</td>\n",
       "      <td>[1989.072137, 1989.073139, 1989.075571]</td>\n",
       "      <td>181.415</td>\n",
       "      <td>149.896</td>\n",
       "      <td>265.269</td>\n",
       "      <td>115.372</td>\n",
       "      <td>31.695</td>\n",
       "      <td>64.252</td>\n",
       "      <td>[31.69, 31.634, 31.655]</td>\n",
       "      <td>[64.251, 64.141, 64.253]</td>\n",
       "      <td>[0.485095898309, 13.6013940105, 3.77943526941]</td>\n",
       "    </tr>\n",
       "    <tr>\n",
       "      <th>2</th>\n",
       "      <td>19890219</td>\n",
       "      <td>1989.14</td>\n",
       "      <td>[1989.135055, 1989.135902, 1989.138413]</td>\n",
       "      <td>768.805</td>\n",
       "      <td>261.669</td>\n",
       "      <td>345.273</td>\n",
       "      <td>83.6039</td>\n",
       "      <td>31.65</td>\n",
       "      <td>64.522</td>\n",
       "      <td>[31.65, 31.709, 31.703]</td>\n",
       "      <td>[64.551, 64.605, 64.835]</td>\n",
       "      <td>[3.219, 10.7684530391, 35.1020838256]</td>\n",
       "    </tr>\n",
       "    <tr>\n",
       "      <th>3</th>\n",
       "      <td>19890326</td>\n",
       "      <td>1989.23</td>\n",
       "      <td>[]</td>\n",
       "      <td>194.795</td>\n",
       "      <td>NaN</td>\n",
       "      <td>NaN</td>\n",
       "      <td>NaN</td>\n",
       "      <td>31.135</td>\n",
       "      <td>64.751</td>\n",
       "      <td>[]</td>\n",
       "      <td>[]</td>\n",
       "      <td>[]</td>\n",
       "    </tr>\n",
       "    <tr>\n",
       "      <th>4</th>\n",
       "      <td>19890417</td>\n",
       "      <td>1989.29</td>\n",
       "      <td>[1989.291457, 1989.292256, 1989.294235]</td>\n",
       "      <td>193.085</td>\n",
       "      <td>166.437</td>\n",
       "      <td>294.062</td>\n",
       "      <td>127.624</td>\n",
       "      <td>31.587</td>\n",
       "      <td>64.213</td>\n",
       "      <td>[31.574, 31.554, 31.509]</td>\n",
       "      <td>[64.208, 64.235, 64.254]</td>\n",
       "      <td>[1.34869967211, 3.96228542489, 8.66639313667]</td>\n",
       "    </tr>\n",
       "  </tbody>\n",
       "</table>\n",
       "</div>"
      ],
      "text/plain": [
       "  pp_yyyymmdd pp_decimal_year  \\\n",
       "0    19881218         1988.96   \n",
       "1    19890127         1989.07   \n",
       "2    19890219         1989.14   \n",
       "3    19890326         1989.23   \n",
       "4    19890417         1989.29   \n",
       "\n",
       "                                    ctd_decimal_year pp_integrated  \\\n",
       "0  [1988.964888, 1988.965535, 1988.966041, 1988.9...         281.6   \n",
       "1            [1989.072137, 1989.073139, 1989.075571]       181.415   \n",
       "2            [1989.135055, 1989.135902, 1989.138413]       768.805   \n",
       "3                                                 []       194.795   \n",
       "4            [1989.291457, 1989.292256, 1989.294235]       193.085   \n",
       "\n",
       "  mode_water_top mode_water_bottom mode_water_thickness  pp_lat  pp_lng  \\\n",
       "0        154.462           287.379              132.917  31.669  64.049   \n",
       "1        149.896           265.269              115.372  31.695  64.252   \n",
       "2        261.669           345.273              83.6039   31.65  64.522   \n",
       "3            NaN               NaN                  NaN  31.135  64.751   \n",
       "4        166.437           294.062              127.624  31.587  64.213   \n",
       "\n",
       "                                    ctd_lat  \\\n",
       "0  [31.668, 31.687, 31.683, 31.675, 31.776]   \n",
       "1                   [31.69, 31.634, 31.655]   \n",
       "2                   [31.65, 31.709, 31.703]   \n",
       "3                                        []   \n",
       "4                  [31.574, 31.554, 31.509]   \n",
       "\n",
       "                                   ctd_lng  \\\n",
       "0  [64.043, 64.02, 64.017, 63.972, 64.056]   \n",
       "1                 [64.251, 64.141, 64.253]   \n",
       "2                 [64.551, 64.605, 64.835]   \n",
       "3                                       []   \n",
       "4                 [64.208, 64.235, 64.254]   \n",
       "\n",
       "                                            distance  \n",
       "0  [0.672666989635, 3.64055240024, 3.79024804909,...  \n",
       "1     [0.485095898309, 13.6013940105, 3.77943526941]  \n",
       "2              [3.219, 10.7684530391, 35.1020838256]  \n",
       "3                                                 []  \n",
       "4      [1.34869967211, 3.96228542489, 8.66639313667]  "
      ]
     },
     "execution_count": 22,
     "metadata": {},
     "output_type": "execute_result"
    }
   ],
   "source": [
    "combined_data[:5]"
   ]
  },
  {
   "cell_type": "code",
   "execution_count": 23,
   "metadata": {},
   "outputs": [
    {
     "data": {
      "text/plain": [
       "<matplotlib.text.Text at 0x113788590>"
      ]
     },
     "execution_count": 23,
     "metadata": {},
     "output_type": "execute_result"
    },
    {
     "data": {
      "image/png": "[encoded data removed]",
      "text/plain": [
       "<matplotlib.figure.Figure at 0x113667d10>"
      ]
     },
     "metadata": {},
     "output_type": "display_data"
    }
   ],
   "source": [
    "# how close to the surface does the defined mode water layer get?\n",
    "\n",
    "plt.plot(-combined_data['mode_water_top'])\n",
    "plt.title('Top of the defined mode water layer')"
   ]
  },
  {
   "cell_type": "code",
   "execution_count": 24,
   "metadata": {},
   "outputs": [
    {
     "data": {
      "text/plain": [
       "<matplotlib.text.Text at 0x1137f8490>"
      ]
     },
     "execution_count": 24,
     "metadata": {},
     "output_type": "execute_result"
    },
    {
     "data": {
      "image/png": "[encoded data removed]",
      "text/plain": [
       "<matplotlib.figure.Figure at 0x113788090>"
      ]
     },
     "metadata": {},
     "output_type": "display_data"
    }
   ],
   "source": [
    "# scatterplot of mode water thickness against primary productivity\n",
    "\n",
    "plt.plot(combined_data['mode_water_thickness'], combined_data['pp_integrated'], '.')\n",
    "plt.ylabel('Primary productivity')\n",
    "plt.xlabel('Mode water thickness')"
   ]
  },
  {
   "cell_type": "code",
   "execution_count": 25,
   "metadata": {},
   "outputs": [],
   "source": [
    "pp_integrated = np.array(combined_data['pp_integrated'], dtype=np.float64)\n",
    "mode_water_thickness = np.array(combined_data['mode_water_thickness'], dtype=np.float64)\n",
    "\n",
    "mask = np.zeros(pp_integrated.shape)\n",
    "mask[np.isnan(pp_integrated)] = 1\n",
    "mask[np.isnan(mode_water_thickness)] = 1\n",
    "mask[pp_integrated == 0] = 1\n",
    "\n",
    "pp_integrated = np.ma.masked_where(mask == 1, pp_integrated)\n",
    "mode_water_thickness = np.ma.masked_where(mask == 1, mode_water_thickness)\n"
   ]
  },
  {
   "cell_type": "code",
   "execution_count": 26,
   "metadata": {
    "collapsed": true
   },
   "outputs": [],
   "source": [
    "import scipy.stats"
   ]
  },
  {
   "cell_type": "code",
   "execution_count": 27,
   "metadata": {},
   "outputs": [
    {
     "data": {
      "text/plain": [
       "LinregressResult(slope=0.33161242042621009, intercept=366.05891783569132, rvalue=0.12557129376391846, pvalue=0.033465592324596907, stderr=0.15519105916097273)"
      ]
     },
     "execution_count": 27,
     "metadata": {},
     "output_type": "execute_result"
    }
   ],
   "source": [
    "scipy.stats.linregress((mode_water_thickness.compressed()), (pp_integrated.compressed()))"
   ]
  },
  {
   "cell_type": "code",
   "execution_count": 28,
   "metadata": {},
   "outputs": [],
   "source": [
    "slope, intercept, rvalue, pvalue, stderr = scipy.stats.linregress((mode_water_thickness.compressed()), (pp_integrated.compressed()))"
   ]
  },
  {
   "cell_type": "code",
   "execution_count": 29,
   "metadata": {},
   "outputs": [
    {
     "data": {
      "text/plain": [
       "<matplotlib.text.Text at 0x146c294d0>"
      ]
     },
     "execution_count": 29,
     "metadata": {},
     "output_type": "execute_result"
    },
    {
     "data": {
      "image/png": "[encoded data removed]",
      "text/plain": [
       "<matplotlib.figure.Figure at 0x146c0fdd0>"
      ]
     },
     "metadata": {},
     "output_type": "display_data"
    }
   ],
   "source": [
    "plt.plot(mode_water_thickness, pp_integrated, '.')\n",
    "plt.plot(intercept + slope*np.arange(480.))\n",
    "plt.ylabel('Primary productivity')\n",
    "plt.xlabel('Mode water thickness')"
   ]
  },
  {
   "cell_type": "code",
   "execution_count": null,
   "metadata": {
    "collapsed": true
   },
   "outputs": [],
   "source": []
  },
  {
   "cell_type": "code",
   "execution_count": 30,
   "metadata": {},
   "outputs": [],
   "source": [
    "comb_dropped_nulls = combined_data[pd.notnull(combined_data['mode_water_thickness'])]"
   ]
  },
  {
   "cell_type": "code",
   "execution_count": 31,
   "metadata": {},
   "outputs": [
    {
     "data": {
      "text/html": [
       "<div>\n",
       "<style>\n",
       "    .dataframe thead tr:only-child th {\n",
       "        text-align: right;\n",
       "    }\n",
       "\n",
       "    .dataframe thead th {\n",
       "        text-align: left;\n",
       "    }\n",
       "\n",
       "    .dataframe tbody tr th {\n",
       "        vertical-align: top;\n",
       "    }\n",
       "</style>\n",
       "<table border=\"1\" class=\"dataframe\">\n",
       "  <thead>\n",
       "    <tr style=\"text-align: right;\">\n",
       "      <th></th>\n",
       "      <th>pp_yyyymmdd</th>\n",
       "      <th>pp_decimal_year</th>\n",
       "      <th>ctd_decimal_year</th>\n",
       "      <th>pp_integrated</th>\n",
       "      <th>mode_water_top</th>\n",
       "      <th>mode_water_bottom</th>\n",
       "      <th>mode_water_thickness</th>\n",
       "      <th>pp_lat</th>\n",
       "      <th>pp_lng</th>\n",
       "      <th>ctd_lat</th>\n",
       "      <th>ctd_lng</th>\n",
       "      <th>distance</th>\n",
       "    </tr>\n",
       "  </thead>\n",
       "  <tbody>\n",
       "    <tr>\n",
       "      <th>0</th>\n",
       "      <td>19881218</td>\n",
       "      <td>1988.96</td>\n",
       "      <td>[1988.964888, 1988.965535, 1988.966041, 1988.9...</td>\n",
       "      <td>281.6</td>\n",
       "      <td>154.462</td>\n",
       "      <td>287.379</td>\n",
       "      <td>132.917</td>\n",
       "      <td>31.669</td>\n",
       "      <td>64.049</td>\n",
       "      <td>[31.668, 31.687, 31.683, 31.675, 31.776]</td>\n",
       "      <td>[64.043, 64.02, 64.017, 63.972, 64.056]</td>\n",
       "      <td>[0.672666989635, 3.64055240024, 3.79024804909,...</td>\n",
       "    </tr>\n",
       "    <tr>\n",
       "      <th>1</th>\n",
       "      <td>19890127</td>\n",
       "      <td>1989.07</td>\n",
       "      <td>[1989.072137, 1989.073139, 1989.075571]</td>\n",
       "      <td>181.415</td>\n",
       "      <td>149.896</td>\n",
       "      <td>265.269</td>\n",
       "      <td>115.372</td>\n",
       "      <td>31.695</td>\n",
       "      <td>64.252</td>\n",
       "      <td>[31.69, 31.634, 31.655]</td>\n",
       "      <td>[64.251, 64.141, 64.253]</td>\n",
       "      <td>[0.485095898309, 13.6013940105, 3.77943526941]</td>\n",
       "    </tr>\n",
       "    <tr>\n",
       "      <th>2</th>\n",
       "      <td>19890219</td>\n",
       "      <td>1989.14</td>\n",
       "      <td>[1989.135055, 1989.135902, 1989.138413]</td>\n",
       "      <td>768.805</td>\n",
       "      <td>261.669</td>\n",
       "      <td>345.273</td>\n",
       "      <td>83.6039</td>\n",
       "      <td>31.65</td>\n",
       "      <td>64.522</td>\n",
       "      <td>[31.65, 31.709, 31.703]</td>\n",
       "      <td>[64.551, 64.605, 64.835]</td>\n",
       "      <td>[3.219, 10.7684530391, 35.1020838256]</td>\n",
       "    </tr>\n",
       "    <tr>\n",
       "      <th>4</th>\n",
       "      <td>19890417</td>\n",
       "      <td>1989.29</td>\n",
       "      <td>[1989.291457, 1989.292256, 1989.294235]</td>\n",
       "      <td>193.085</td>\n",
       "      <td>166.437</td>\n",
       "      <td>294.062</td>\n",
       "      <td>127.624</td>\n",
       "      <td>31.587</td>\n",
       "      <td>64.213</td>\n",
       "      <td>[31.574, 31.554, 31.509]</td>\n",
       "      <td>[64.208, 64.235, 64.254]</td>\n",
       "      <td>[1.34869967211, 3.96228542489, 8.66639313667]</td>\n",
       "    </tr>\n",
       "    <tr>\n",
       "      <th>5</th>\n",
       "      <td>19890516</td>\n",
       "      <td>1989.37</td>\n",
       "      <td>[1989.370928, 1989.373697, 1989.374486, 1989.3...</td>\n",
       "      <td>151.67</td>\n",
       "      <td>108.212</td>\n",
       "      <td>284.303</td>\n",
       "      <td>176.091</td>\n",
       "      <td>31.963</td>\n",
       "      <td>64.033</td>\n",
       "      <td>[31.963, 32.032, 32.05, 32.079]</td>\n",
       "      <td>[64.032, 63.787, 63.73, 63.668]</td>\n",
       "      <td>[0.111000000001, 28.0684752071, 34.6165040974,...</td>\n",
       "    </tr>\n",
       "  </tbody>\n",
       "</table>\n",
       "</div>"
      ],
      "text/plain": [
       "  pp_yyyymmdd pp_decimal_year  \\\n",
       "0    19881218         1988.96   \n",
       "1    19890127         1989.07   \n",
       "2    19890219         1989.14   \n",
       "4    19890417         1989.29   \n",
       "5    19890516         1989.37   \n",
       "\n",
       "                                    ctd_decimal_year pp_integrated  \\\n",
       "0  [1988.964888, 1988.965535, 1988.966041, 1988.9...         281.6   \n",
       "1            [1989.072137, 1989.073139, 1989.075571]       181.415   \n",
       "2            [1989.135055, 1989.135902, 1989.138413]       768.805   \n",
       "4            [1989.291457, 1989.292256, 1989.294235]       193.085   \n",
       "5  [1989.370928, 1989.373697, 1989.374486, 1989.3...        151.67   \n",
       "\n",
       "  mode_water_top mode_water_bottom mode_water_thickness  pp_lat  pp_lng  \\\n",
       "0        154.462           287.379              132.917  31.669  64.049   \n",
       "1        149.896           265.269              115.372  31.695  64.252   \n",
       "2        261.669           345.273              83.6039   31.65  64.522   \n",
       "4        166.437           294.062              127.624  31.587  64.213   \n",
       "5        108.212           284.303              176.091  31.963  64.033   \n",
       "\n",
       "                                    ctd_lat  \\\n",
       "0  [31.668, 31.687, 31.683, 31.675, 31.776]   \n",
       "1                   [31.69, 31.634, 31.655]   \n",
       "2                   [31.65, 31.709, 31.703]   \n",
       "4                  [31.574, 31.554, 31.509]   \n",
       "5           [31.963, 32.032, 32.05, 32.079]   \n",
       "\n",
       "                                   ctd_lng  \\\n",
       "0  [64.043, 64.02, 64.017, 63.972, 64.056]   \n",
       "1                 [64.251, 64.141, 64.253]   \n",
       "2                 [64.551, 64.605, 64.835]   \n",
       "4                 [64.208, 64.235, 64.254]   \n",
       "5          [64.032, 63.787, 63.73, 63.668]   \n",
       "\n",
       "                                            distance  \n",
       "0  [0.672666989635, 3.64055240024, 3.79024804909,...  \n",
       "1     [0.485095898309, 13.6013940105, 3.77943526941]  \n",
       "2              [3.219, 10.7684530391, 35.1020838256]  \n",
       "4      [1.34869967211, 3.96228542489, 8.66639313667]  \n",
       "5  [0.111000000001, 28.0684752071, 34.6165040974,...  "
      ]
     },
     "execution_count": 31,
     "metadata": {},
     "output_type": "execute_result"
    }
   ],
   "source": [
    "comb_dropped_nulls[:5]"
   ]
  },
  {
   "cell_type": "code",
   "execution_count": 32,
   "metadata": {},
   "outputs": [
    {
     "data": {
      "text/plain": [
       "<matplotlib.text.Text at 0x146e26250>"
      ]
     },
     "execution_count": 32,
     "metadata": {},
     "output_type": "execute_result"
    },
    {
     "data": {
      "image/png": "[encoded data removed]",
      "text/plain": [
       "<matplotlib.figure.Figure at 0x146e0c390>"
      ]
     },
     "metadata": {},
     "output_type": "display_data"
    }
   ],
   "source": [
    "# plt.figure(figsize = (10,10))\n",
    "# m.drawcoastlines()\n",
    "# m.drawmeridians(np.arange(-90,0,1),labels=[False,False,True,True],fontsize=20)\n",
    "# m.drawparallels(np.arange(-10,40,1),labels=[True,False,False,False],fontsize=20)\n",
    "\n",
    "for ind in comb_dropped_nulls.index[:]:\n",
    "    pp_lng = -1.*comb_dropped_nulls.get_value(ind, 'pp_lng')\n",
    "    pp_lat = comb_dropped_nulls.get_value(ind, 'pp_lat')\n",
    "    ctd_lngs = comb_dropped_nulls.get_value(ind, 'ctd_lng')\n",
    "    ctd_lats = comb_dropped_nulls.get_value(ind, 'ctd_lat')\n",
    "    plt.plot(pp_lng, pp_lat, 'o', color='C0', zorder=3)#, latlon=True)\n",
    "    \n",
    "    for cast in xrange(len(ctd_lngs)):\n",
    "        plt.plot([pp_lng, -1.*ctd_lngs[cast]], [pp_lat, ctd_lats[cast]], '-', color='C1', alpha=0.5)#, latlon=True)\n",
    "        plt.plot(-1.*ctd_lngs[cast], [ctd_lats[cast]], '.', color='C1')#, latlon=True)\n",
    "        \n",
    "plt.title('Spatial locations of data')\n",
    "plt.xlabel('Longitude (degrees East)')\n",
    "plt.ylabel('Latitude (degrees North)')"
   ]
  },
  {
   "cell_type": "markdown",
   "metadata": {},
   "source": [
    "# Annual averages\n",
    "\n",
    "This is good, but let's look at annual averages, since the mechanism is meant to be an equilibrium one."
   ]
  },
  {
   "cell_type": "code",
   "execution_count": 33,
   "metadata": {
    "collapsed": true
   },
   "outputs": [],
   "source": [
    "ann_avg_comb_data = pd.DataFrame(columns=['pp', 'mode_water_thickness'])"
   ]
  },
  {
   "cell_type": "code",
   "execution_count": 34,
   "metadata": {
    "scrolled": false
   },
   "outputs": [],
   "source": [
    "for year in xrange(1988,2016):\n",
    "    year_subset = comb_dropped_nulls.loc[np.abs(comb_dropped_nulls['pp_decimal_year'] - (year + 0.5)) < 0.5]\n",
    "    ann_avg_comb_data.set_value(year, 'pp', year_subset['pp_integrated'].mean())\n",
    "    ann_avg_comb_data.set_value(year, 'mode_water_thickness', year_subset['mode_water_thickness'].mean())\n",
    "    "
   ]
  },
  {
   "cell_type": "code",
   "execution_count": 35,
   "metadata": {},
   "outputs": [
    {
     "data": {
      "text/html": [
       "<div>\n",
       "<style>\n",
       "    .dataframe thead tr:only-child th {\n",
       "        text-align: right;\n",
       "    }\n",
       "\n",
       "    .dataframe thead th {\n",
       "        text-align: left;\n",
       "    }\n",
       "\n",
       "    .dataframe tbody tr th {\n",
       "        vertical-align: top;\n",
       "    }\n",
       "</style>\n",
       "<table border=\"1\" class=\"dataframe\">\n",
       "  <thead>\n",
       "    <tr style=\"text-align: right;\">\n",
       "      <th></th>\n",
       "      <th>pp</th>\n",
       "      <th>mode_water_thickness</th>\n",
       "    </tr>\n",
       "  </thead>\n",
       "  <tbody>\n",
       "    <tr>\n",
       "      <th>1988</th>\n",
       "      <td>281.6</td>\n",
       "      <td>132.917</td>\n",
       "    </tr>\n",
       "    <tr>\n",
       "      <th>1989</th>\n",
       "      <td>297.672</td>\n",
       "      <td>150.117</td>\n",
       "    </tr>\n",
       "    <tr>\n",
       "      <th>1990</th>\n",
       "      <td>384.213</td>\n",
       "      <td>147.46</td>\n",
       "    </tr>\n",
       "    <tr>\n",
       "      <th>1991</th>\n",
       "      <td>439.742</td>\n",
       "      <td>140.588</td>\n",
       "    </tr>\n",
       "    <tr>\n",
       "      <th>1992</th>\n",
       "      <td>469.22</td>\n",
       "      <td>141.445</td>\n",
       "    </tr>\n",
       "    <tr>\n",
       "      <th>1993</th>\n",
       "      <td>409.301</td>\n",
       "      <td>182.13</td>\n",
       "    </tr>\n",
       "    <tr>\n",
       "      <th>1994</th>\n",
       "      <td>321.981</td>\n",
       "      <td>270.812</td>\n",
       "    </tr>\n",
       "    <tr>\n",
       "      <th>1995</th>\n",
       "      <td>488.484</td>\n",
       "      <td>324.817</td>\n",
       "    </tr>\n",
       "    <tr>\n",
       "      <th>1996</th>\n",
       "      <td>498.866</td>\n",
       "      <td>304.754</td>\n",
       "    </tr>\n",
       "    <tr>\n",
       "      <th>1997</th>\n",
       "      <td>428.132</td>\n",
       "      <td>262.865</td>\n",
       "    </tr>\n",
       "    <tr>\n",
       "      <th>1998</th>\n",
       "      <td>347.738</td>\n",
       "      <td>259.107</td>\n",
       "    </tr>\n",
       "    <tr>\n",
       "      <th>1999</th>\n",
       "      <td>442.162</td>\n",
       "      <td>220.868</td>\n",
       "    </tr>\n",
       "    <tr>\n",
       "      <th>2000</th>\n",
       "      <td>470.942</td>\n",
       "      <td>252.227</td>\n",
       "    </tr>\n",
       "    <tr>\n",
       "      <th>2001</th>\n",
       "      <td>508.41</td>\n",
       "      <td>267.641</td>\n",
       "    </tr>\n",
       "    <tr>\n",
       "      <th>2002</th>\n",
       "      <td>556.125</td>\n",
       "      <td>233.292</td>\n",
       "    </tr>\n",
       "    <tr>\n",
       "      <th>2003</th>\n",
       "      <td>608.774</td>\n",
       "      <td>219</td>\n",
       "    </tr>\n",
       "    <tr>\n",
       "      <th>2004</th>\n",
       "      <td>404.594</td>\n",
       "      <td>235.013</td>\n",
       "    </tr>\n",
       "    <tr>\n",
       "      <th>2005</th>\n",
       "      <td>488.415</td>\n",
       "      <td>281.299</td>\n",
       "    </tr>\n",
       "    <tr>\n",
       "      <th>2006</th>\n",
       "      <td>454.988</td>\n",
       "      <td>289.675</td>\n",
       "    </tr>\n",
       "    <tr>\n",
       "      <th>2007</th>\n",
       "      <td>467.881</td>\n",
       "      <td>255.046</td>\n",
       "    </tr>\n",
       "    <tr>\n",
       "      <th>2008</th>\n",
       "      <td>377.261</td>\n",
       "      <td>206.918</td>\n",
       "    </tr>\n",
       "    <tr>\n",
       "      <th>2009</th>\n",
       "      <td>414.735</td>\n",
       "      <td>241.78</td>\n",
       "    </tr>\n",
       "    <tr>\n",
       "      <th>2010</th>\n",
       "      <td>565.735</td>\n",
       "      <td>307.029</td>\n",
       "    </tr>\n",
       "    <tr>\n",
       "      <th>2011</th>\n",
       "      <td>468.79</td>\n",
       "      <td>314.754</td>\n",
       "    </tr>\n",
       "    <tr>\n",
       "      <th>2012</th>\n",
       "      <td>299.102</td>\n",
       "      <td>220.511</td>\n",
       "    </tr>\n",
       "    <tr>\n",
       "      <th>2013</th>\n",
       "      <td>NaN</td>\n",
       "      <td>NaN</td>\n",
       "    </tr>\n",
       "    <tr>\n",
       "      <th>2014</th>\n",
       "      <td>NaN</td>\n",
       "      <td>NaN</td>\n",
       "    </tr>\n",
       "    <tr>\n",
       "      <th>2015</th>\n",
       "      <td>NaN</td>\n",
       "      <td>NaN</td>\n",
       "    </tr>\n",
       "  </tbody>\n",
       "</table>\n",
       "</div>"
      ],
      "text/plain": [
       "           pp mode_water_thickness\n",
       "1988    281.6              132.917\n",
       "1989  297.672              150.117\n",
       "1990  384.213               147.46\n",
       "1991  439.742              140.588\n",
       "1992   469.22              141.445\n",
       "1993  409.301               182.13\n",
       "1994  321.981              270.812\n",
       "1995  488.484              324.817\n",
       "1996  498.866              304.754\n",
       "1997  428.132              262.865\n",
       "1998  347.738              259.107\n",
       "1999  442.162              220.868\n",
       "2000  470.942              252.227\n",
       "2001   508.41              267.641\n",
       "2002  556.125              233.292\n",
       "2003  608.774                  219\n",
       "2004  404.594              235.013\n",
       "2005  488.415              281.299\n",
       "2006  454.988              289.675\n",
       "2007  467.881              255.046\n",
       "2008  377.261              206.918\n",
       "2009  414.735               241.78\n",
       "2010  565.735              307.029\n",
       "2011   468.79              314.754\n",
       "2012  299.102              220.511\n",
       "2013      NaN                  NaN\n",
       "2014      NaN                  NaN\n",
       "2015      NaN                  NaN"
      ]
     },
     "execution_count": 35,
     "metadata": {},
     "output_type": "execute_result"
    }
   ],
   "source": [
    "ann_avg_comb_data"
   ]
  },
  {
   "cell_type": "raw",
   "metadata": {},
   "source": [
    "scipy.stats.linregress(ann_avg_comb_data['mode_water_thickness'][:-3], ann_avg_comb_data['pp'][:-3])"
   ]
  },
  {
   "cell_type": "code",
   "execution_count": 46,
   "metadata": {
    "collapsed": true
   },
   "outputs": [],
   "source": [
    "slope, intercept, rvalue, pvalue, stderr = scipy.stats.linregress((mode_water_thickness.compressed()), (pp_integrated.compressed()))"
   ]
  },
  {
   "cell_type": "code",
   "execution_count": 47,
   "metadata": {},
   "outputs": [
    {
     "data": {
      "image/png": "[encoded data removed]",
      "text/plain": [
       "<matplotlib.figure.Figure at 0x14ba49a90>"
      ]
     },
     "metadata": {},
     "output_type": "display_data"
    }
   ],
   "source": [
    "plt.figure(figsize=(6,7))\n",
    "plt.plot(ann_avg_comb_data['mode_water_thickness'], ann_avg_comb_data['pp'], 'o')\n",
    "plt.plot(np.arange(125.,325.), intercept + slope*np.arange(125., 325.), 'k', linewidth=3)\n",
    "plt.xlabel(r'\\textbf{Mode water thickness} (m)', fontsize=20)\n",
    "plt.ylabel('\\\\textbf{Ocean primary productivity} \\n (mg C m$^{-2}$ day$^{-1}$)',fontsize=20)\n",
    "plt.title(r'\\textbf{BATS data}', fontsize=20)\n",
    "plt.tick_params(pad=10,axis='both', labelsize=20)\n",
    "\n",
    "plt.savefig('BATS_annual.pdf', bbox_inches='tight')"
   ]
  },
  {
   "cell_type": "code",
   "execution_count": null,
   "metadata": {
    "collapsed": true
   },
   "outputs": [],
   "source": []
  }
 ],
 "metadata": {
  "anaconda-cloud": {},
  "kernelspec": {
   "display_name": "Python 2",
   "language": "python",
   "name": "python2"
  },
  "language_info": {
   "codemirror_mode": {
    "name": "ipython",
    "version": 2
   },
   "file_extension": ".py",
   "mimetype": "text/x-python",
   "name": "python",
   "nbconvert_exporter": "python",
   "pygments_lexer": "ipython2",
   "version": "2.7.13"
  }
 },
 "nbformat": 4,
 "nbformat_minor": 1
}
